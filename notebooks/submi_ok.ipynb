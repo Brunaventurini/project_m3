{
 "cells": [
  {
   "cell_type": "code",
   "execution_count": 2,
   "id": "2187006b",
   "metadata": {},
   "outputs": [],
   "source": [
    "import sqlite3\n",
    "import pandas as pd"
   ]
  },
  {
   "cell_type": "code",
   "execution_count": 3,
   "id": "07700a7a",
   "metadata": {},
   "outputs": [
    {
     "data": {
      "text/html": [
       "<div>\n",
       "<style scoped>\n",
       "    .dataframe tbody tr th:only-of-type {\n",
       "        vertical-align: middle;\n",
       "    }\n",
       "\n",
       "    .dataframe tbody tr th {\n",
       "        vertical-align: top;\n",
       "    }\n",
       "\n",
       "    .dataframe thead th {\n",
       "        text-align: right;\n",
       "    }\n",
       "</style>\n",
       "<table border=\"1\" class=\"dataframe\">\n",
       "  <thead>\n",
       "    <tr style=\"text-align: right;\">\n",
       "      <th></th>\n",
       "      <th>Unnamed: 0</th>\n",
       "      <th>0</th>\n",
       "    </tr>\n",
       "  </thead>\n",
       "  <tbody>\n",
       "    <tr>\n",
       "      <th>0</th>\n",
       "      <td>0</td>\n",
       "      <td>3035.40</td>\n",
       "    </tr>\n",
       "    <tr>\n",
       "      <th>1</th>\n",
       "      <td>1</td>\n",
       "      <td>5228.97</td>\n",
       "    </tr>\n",
       "    <tr>\n",
       "      <th>2</th>\n",
       "      <td>2</td>\n",
       "      <td>9072.72</td>\n",
       "    </tr>\n",
       "    <tr>\n",
       "      <th>3</th>\n",
       "      <td>3</td>\n",
       "      <td>4034.50</td>\n",
       "    </tr>\n",
       "    <tr>\n",
       "      <th>4</th>\n",
       "      <td>4</td>\n",
       "      <td>1682.18</td>\n",
       "    </tr>\n",
       "    <tr>\n",
       "      <th>...</th>\n",
       "      <td>...</td>\n",
       "      <td>...</td>\n",
       "    </tr>\n",
       "    <tr>\n",
       "      <th>13480</th>\n",
       "      <td>13480</td>\n",
       "      <td>1687.11</td>\n",
       "    </tr>\n",
       "    <tr>\n",
       "      <th>13481</th>\n",
       "      <td>13481</td>\n",
       "      <td>2297.87</td>\n",
       "    </tr>\n",
       "    <tr>\n",
       "      <th>13482</th>\n",
       "      <td>13482</td>\n",
       "      <td>2921.36</td>\n",
       "    </tr>\n",
       "    <tr>\n",
       "      <th>13483</th>\n",
       "      <td>13483</td>\n",
       "      <td>2147.79</td>\n",
       "    </tr>\n",
       "    <tr>\n",
       "      <th>13484</th>\n",
       "      <td>13484</td>\n",
       "      <td>823.22</td>\n",
       "    </tr>\n",
       "  </tbody>\n",
       "</table>\n",
       "<p>13485 rows × 2 columns</p>\n",
       "</div>"
      ],
      "text/plain": [
       "       Unnamed: 0        0\n",
       "0               0  3035.40\n",
       "1               1  5228.97\n",
       "2               2  9072.72\n",
       "3               3  4034.50\n",
       "4               4  1682.18\n",
       "...           ...      ...\n",
       "13480       13480  1687.11\n",
       "13481       13481  2297.87\n",
       "13482       13482  2921.36\n",
       "13483       13483  2147.79\n",
       "13484       13484   823.22\n",
       "\n",
       "[13485 rows x 2 columns]"
      ]
     },
     "execution_count": 3,
     "metadata": {},
     "output_type": "execute_result"
    }
   ],
   "source": [
    "submi_test = pd.read_csv('submi.csv')\n",
    "submi_test"
   ]
  },
  {
   "cell_type": "code",
   "execution_count": 5,
   "id": "88a497d0",
   "metadata": {},
   "outputs": [
    {
     "name": "stdout",
     "output_type": "stream",
     "text": [
      "          id    price\n",
      "0          0  3035.40\n",
      "1          1  5228.97\n",
      "2          2  9072.72\n",
      "3          3  4034.50\n",
      "4          4  1682.18\n",
      "...      ...      ...\n",
      "13480  13480  1687.11\n",
      "13481  13481  2297.87\n",
      "13482  13482  2921.36\n",
      "13483  13483  2147.79\n",
      "13484  13484   823.22\n",
      "\n",
      "[13485 rows x 2 columns]\n"
     ]
    }
   ],
   "source": [
    "# Rename the columns\n",
    "submi_test.rename(columns={'Unnamed: 0': 'id', '0': 'price'}, inplace=True)\n",
    "\n",
    "# Display the updated DataFrame\n",
    "print(submi_test)\n"
   ]
  },
  {
   "cell_type": "code",
   "execution_count": 6,
   "id": "59bdd58e",
   "metadata": {},
   "outputs": [],
   "source": [
    "submi_test.to_csv(\"./submi_test.csv\", index=False)"
   ]
  },
  {
   "cell_type": "code",
   "execution_count": null,
   "id": "156f602a",
   "metadata": {},
   "outputs": [],
   "source": []
  }
 ],
 "metadata": {
  "kernelspec": {
   "display_name": "Python [conda env:m3_env]",
   "language": "python",
   "name": "conda-env-m3_env-py"
  },
  "language_info": {
   "codemirror_mode": {
    "name": "ipython",
    "version": 3
   },
   "file_extension": ".py",
   "mimetype": "text/x-python",
   "name": "python",
   "nbconvert_exporter": "python",
   "pygments_lexer": "ipython3",
   "version": "3.11.3"
  }
 },
 "nbformat": 4,
 "nbformat_minor": 5
}
